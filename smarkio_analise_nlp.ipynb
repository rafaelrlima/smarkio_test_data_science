{
  "nbformat": 4,
  "nbformat_minor": 0,
  "metadata": {
    "colab": {
      "name": "smarkio_analise_nlp.ipynb",
      "provenance": [],
      "collapsed_sections": [],
      "mount_file_id": "1Wt1QCGHObG9ojHnPxMJkD3cLHOBqBZdn",
      "authorship_tag": "ABX9TyM/NP7mj5baRbYIi2No2YLw",
      "include_colab_link": true
    },
    "kernelspec": {
      "name": "python3",
      "display_name": "Python 3"
    }
  },
  "cells": [
    {
      "cell_type": "markdown",
      "metadata": {
        "id": "view-in-github",
        "colab_type": "text"
      },
      "source": [
        "<a href=\"https://colab.research.google.com/github/rafaelrlima/smarkio_test_data_science/blob/main/smarkio_analise_nlp.ipynb\" target=\"_parent\"><img src=\"https://colab.research.google.com/assets/colab-badge.svg\" alt=\"Open In Colab\"/></a>"
      ]
    },
    {
      "cell_type": "code",
      "metadata": {
        "id": "msjxezEXsuPT"
      },
      "source": [
        "import pandas as pd"
      ],
      "execution_count": 3,
      "outputs": []
    },
    {
      "cell_type": "code",
      "metadata": {
        "id": "c_aKL12pqab8"
      },
      "source": [
        "column_names = [\"letra\", \"artista\"]\r\n",
        "\r\n",
        "xls = '/content/drive/MyDrive/Colab Notebooks/teste_smarkio_lbs.xls'\r\n",
        "\r\n",
        "df = pd.read_excel(xls, sheet_name='NLP',usecols=column_names)"
      ],
      "execution_count": 13,
      "outputs": []
    },
    {
      "cell_type": "code",
      "metadata": {
        "colab": {
          "base_uri": "https://localhost:8080/"
        },
        "id": "JBkXwuobqiLN",
        "outputId": "f7297887-4102-48c4-c7a4-39d369540ee0"
      },
      "source": [
        "df.head"
      ],
      "execution_count": 14,
      "outputs": [
        {
          "output_type": "execute_result",
          "data": {
            "text/plain": [
              "<bound method NDFrame.head of                                                  letra  artista\n",
              "0    Jay-z Uh-uh-uh You ready b? Let's go get 'em. ...  Beyoncé\n",
              "1    Your challengers are a young group from Housto...  Beyoncé\n",
              "2    Dum-da-de-da Do, do, do, do, do, do (Coming do...  Beyoncé\n",
              "3    If I ain't got nothing I got you If I ain't go...  Beyoncé\n",
              "4    Six inch heels She walked in the club like nob...  Beyoncé\n",
              "..                                                 ...      ...\n",
              "513  Yeah yeah Yeah yeah  I ain't trying to think a...  Rihanna\n",
              "514  You the one that I dream about all day You the...  Rihanna\n",
              "515  No, no, no You don't love me and I know now No...  Rihanna\n",
              "516  You should be mine Oh baby, oh baby, oh baby, ...  Rihanna\n",
              "517  [Rihanna] I remember when the world was just m...  Rihanna\n",
              "\n",
              "[518 rows x 2 columns]>"
            ]
          },
          "metadata": {
            "tags": []
          },
          "execution_count": 14
        }
      ]
    },
    {
      "cell_type": "code",
      "metadata": {
        "id": "6Ou9y2vxquvB"
      },
      "source": [
        ""
      ],
      "execution_count": null,
      "outputs": []
    }
  ]
}