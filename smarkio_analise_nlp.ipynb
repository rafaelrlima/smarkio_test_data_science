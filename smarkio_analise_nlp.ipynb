{
  "nbformat": 4,
  "nbformat_minor": 0,
  "metadata": {
    "colab": {
      "name": "smarkio_analise_nlp.ipynb",
      "provenance": [],
      "collapsed_sections": [],
      "mount_file_id": "1Wt1QCGHObG9ojHnPxMJkD3cLHOBqBZdn",
      "authorship_tag": "ABX9TyOGafgzcx92mFwK5Z3vF5eG",
      "include_colab_link": true
    },
    "kernelspec": {
      "name": "python3",
      "display_name": "Python 3"
    }
  },
  "cells": [
    {
      "cell_type": "markdown",
      "metadata": {
        "id": "view-in-github",
        "colab_type": "text"
      },
      "source": [
        "<a href=\"https://colab.research.google.com/github/rafaelrlima/smarkio_test_data_science/blob/main/smarkio_analise_nlp.ipynb\" target=\"_parent\"><img src=\"https://colab.research.google.com/assets/colab-badge.svg\" alt=\"Open In Colab\"/></a>"
      ]
    },
    {
      "cell_type": "markdown",
      "metadata": {
        "id": "yaLmF6P43qo3"
      },
      "source": [
        "#Teste Ciência de Dados Smarkio - Análise NLP"
      ]
    },
    {
      "cell_type": "markdown",
      "metadata": {
        "id": "jj8-JVCY3tLz"
      },
      "source": [
        "Esse projeto foi publicado em: https://github.com/rafaelrlima/smarkio_test_data_science\r\n",
        "\r\n",
        "Teste realizado por: Rafael Ribeiro de Lima\r\n",
        "\r\n",
        "Status: Em execução\r\n",
        "\r\n",
        "Etapas executadas nesse arquivo\r\n",
        "5. Crie um classificador, a partir da segunda aba - NLP do arquivo de dados, que\r\n",
        "permita identificar qual trecho de música corresponde às respectivas artistas listadas\r\n",
        "(Sugestão: Naive Bayes Classifier)."
      ]
    },
    {
      "cell_type": "markdown",
      "metadata": {
        "id": "wmWsHSI04EZs"
      },
      "source": [
        "## Imports"
      ]
    },
    {
      "cell_type": "code",
      "metadata": {
        "id": "sGfame8b39sH"
      },
      "source": [
        "import pandas as pd #manipulação de dataset\r\n",
        "import numpy as np\r\n",
        "from sklearn.preprocessing import LabelEncoder #pré-processamento\r\n",
        "from sklearn.preprocessing import MinMaxScaler #padronização\r\n",
        "from sklearn.neighbors import KNeighborsClassifier #classificador\r\n",
        "from sklearn.model_selection import train_test_split #separando em dados teste e treinamento \r\n",
        "from sklearn.metrics import classification_report # metricas de validação\r\n",
        "from sklearn.metrics import accuracy_score #acuracia\r\n",
        "from sklearn.metrics import precision_score #precision\r\n",
        "from sklearn.metrics import recall_score #recall\r\n",
        "from sklearn.metrics import f1_score #f1-score\r\n",
        "from sklearn.metrics import roc_auc_score #area sob curva roc\r\n",
        "from sklearn.metrics import roc_curve #curva roc\r\n",
        "from sklearn.metrics import confusion_matrix #matriz de confusão\r\n",
        "from matplotlib import pyplot #grafico"
      ],
      "execution_count": 63,
      "outputs": []
    },
    {
      "cell_type": "markdown",
      "metadata": {
        "id": "7z_cFy-tFeGm"
      },
      "source": [
        "## Carregando os Dataframe"
      ]
    },
    {
      "cell_type": "code",
      "metadata": {
        "id": "c_aKL12pqab8"
      },
      "source": [
        "column_names = [\"letra\", \"artista\"]\r\n",
        "\r\n",
        "xls = '/content/drive/MyDrive/Colab Notebooks/teste_smarkio_lbs.xls'\r\n",
        "\r\n",
        "data = pd.read_excel(xls, sheet_name='NLP',usecols=column_names)"
      ],
      "execution_count": 2,
      "outputs": []
    },
    {
      "cell_type": "markdown",
      "metadata": {
        "id": "diuNrfdz4Zbs"
      },
      "source": [
        "## Explorando os dados"
      ]
    },
    {
      "cell_type": "code",
      "metadata": {
        "colab": {
          "base_uri": "https://localhost:8080/"
        },
        "id": "JBkXwuobqiLN",
        "outputId": "b237914b-be3b-48e8-ac95-139d8b3643c2"
      },
      "source": [
        "print(data)"
      ],
      "execution_count": 3,
      "outputs": [
        {
          "output_type": "stream",
          "text": [
            "                                                 letra  artista\n",
            "0    Jay-z Uh-uh-uh You ready b? Let's go get 'em. ...  Beyoncé\n",
            "1    Your challengers are a young group from Housto...  Beyoncé\n",
            "2    Dum-da-de-da Do, do, do, do, do, do (Coming do...  Beyoncé\n",
            "3    If I ain't got nothing I got you If I ain't go...  Beyoncé\n",
            "4    Six inch heels She walked in the club like nob...  Beyoncé\n",
            "..                                                 ...      ...\n",
            "513  Yeah yeah Yeah yeah  I ain't trying to think a...  Rihanna\n",
            "514  You the one that I dream about all day You the...  Rihanna\n",
            "515  No, no, no You don't love me and I know now No...  Rihanna\n",
            "516  You should be mine Oh baby, oh baby, oh baby, ...  Rihanna\n",
            "517  [Rihanna] I remember when the world was just m...  Rihanna\n",
            "\n",
            "[518 rows x 2 columns]\n"
          ],
          "name": "stdout"
        }
      ]
    },
    {
      "cell_type": "code",
      "metadata": {
        "colab": {
          "base_uri": "https://localhost:8080/"
        },
        "id": "pexWd3r7TN4S",
        "outputId": "7e8eadff-0892-4195-d0a5-bdc2e647d48f"
      },
      "source": [
        "data.info()"
      ],
      "execution_count": 4,
      "outputs": [
        {
          "output_type": "stream",
          "text": [
            "<class 'pandas.core.frame.DataFrame'>\n",
            "RangeIndex: 518 entries, 0 to 517\n",
            "Data columns (total 2 columns):\n",
            " #   Column   Non-Null Count  Dtype \n",
            "---  ------   --------------  ----- \n",
            " 0   letra    518 non-null    object\n",
            " 1   artista  518 non-null    object\n",
            "dtypes: object(2)\n",
            "memory usage: 8.2+ KB\n"
          ],
          "name": "stdout"
        }
      ]
    },
    {
      "cell_type": "code",
      "metadata": {
        "id": "6Ou9y2vxquvB",
        "colab": {
          "base_uri": "https://localhost:8080/"
        },
        "outputId": "b4b6ccd2-b119-4f12-8325-b8af19c5cf88"
      },
      "source": [
        "#agrupar os artistas e quantos registros correspondem a cada\r\n",
        "data.groupby(by='artista').size()"
      ],
      "execution_count": 88,
      "outputs": [
        {
          "output_type": "execute_result",
          "data": {
            "text/plain": [
              "artista\n",
              "Beyoncé    274\n",
              "Rihanna    244\n",
              "dtype: int64"
            ]
          },
          "metadata": {
            "tags": []
          },
          "execution_count": 88
        }
      ]
    },
    {
      "cell_type": "code",
      "metadata": {
        "id": "xQDQaZs1I8Hw"
      },
      "source": [
        "df2 = pd.DataFrame(data)"
      ],
      "execution_count": 6,
      "outputs": []
    },
    {
      "cell_type": "code",
      "metadata": {
        "id": "cXLDjOYdEtz8"
      },
      "source": [
        "df2 = df2.apply(lambda x: x.astype(str).str.lower())"
      ],
      "execution_count": 7,
      "outputs": []
    },
    {
      "cell_type": "code",
      "metadata": {
        "id": "Xz0gVzXMGDAg"
      },
      "source": [
        "df2[\"letra\"] = df2['letra'].str.replace(r'[^\\w\\s]','')\r\n"
      ],
      "execution_count": 8,
      "outputs": []
    },
    {
      "cell_type": "code",
      "metadata": {
        "id": "T078HXamMyLH"
      },
      "source": [
        "df2[\"artista\"] = df2['artista'].str.replace(r'[é]','e')"
      ],
      "execution_count": 9,
      "outputs": []
    },
    {
      "cell_type": "code",
      "metadata": {
        "colab": {
          "base_uri": "https://localhost:8080/",
          "height": 204
        },
        "id": "92Z6BdU3Q3QM",
        "outputId": "f99418f1-da8f-4d47-e37b-7b72e81b7f74"
      },
      "source": [
        "df2.head()"
      ],
      "execution_count": 37,
      "outputs": [
        {
          "output_type": "execute_result",
          "data": {
            "text/html": [
              "<div>\n",
              "<style scoped>\n",
              "    .dataframe tbody tr th:only-of-type {\n",
              "        vertical-align: middle;\n",
              "    }\n",
              "\n",
              "    .dataframe tbody tr th {\n",
              "        vertical-align: top;\n",
              "    }\n",
              "\n",
              "    .dataframe thead th {\n",
              "        text-align: right;\n",
              "    }\n",
              "</style>\n",
              "<table border=\"1\" class=\"dataframe\">\n",
              "  <thead>\n",
              "    <tr style=\"text-align: right;\">\n",
              "      <th></th>\n",
              "      <th>letra</th>\n",
              "      <th>artista</th>\n",
              "    </tr>\n",
              "  </thead>\n",
              "  <tbody>\n",
              "    <tr>\n",
              "      <th>0</th>\n",
              "      <td>jayz uhuhuh you ready b lets go get em  look f...</td>\n",
              "      <td>beyonce</td>\n",
              "    </tr>\n",
              "    <tr>\n",
              "      <th>1</th>\n",
              "      <td>your challengers are a young group from housto...</td>\n",
              "      <td>beyonce</td>\n",
              "    </tr>\n",
              "    <tr>\n",
              "      <th>2</th>\n",
              "      <td>dumdadeda do do do do do do coming down drippi...</td>\n",
              "      <td>beyonce</td>\n",
              "    </tr>\n",
              "    <tr>\n",
              "      <th>3</th>\n",
              "      <td>if i aint got nothing i got you if i aint got ...</td>\n",
              "      <td>beyonce</td>\n",
              "    </tr>\n",
              "    <tr>\n",
              "      <th>4</th>\n",
              "      <td>six inch heels she walked in the club like nob...</td>\n",
              "      <td>beyonce</td>\n",
              "    </tr>\n",
              "  </tbody>\n",
              "</table>\n",
              "</div>"
            ],
            "text/plain": [
              "                                               letra  artista\n",
              "0  jayz uhuhuh you ready b lets go get em  look f...  beyonce\n",
              "1  your challengers are a young group from housto...  beyonce\n",
              "2  dumdadeda do do do do do do coming down drippi...  beyonce\n",
              "3  if i aint got nothing i got you if i aint got ...  beyonce\n",
              "4  six inch heels she walked in the club like nob...  beyonce"
            ]
          },
          "metadata": {
            "tags": []
          },
          "execution_count": 37
        }
      ]
    },
    {
      "cell_type": "markdown",
      "metadata": {
        "id": "GGN1BG7JFXD3"
      },
      "source": [
        "## Dividindo os Dados"
      ]
    },
    {
      "cell_type": "code",
      "metadata": {
        "id": "dGnXVhmnImBY"
      },
      "source": [
        "cantoras = [\r\n",
        "    'beyonce', 'rihanna'\r\n",
        "]\r\n",
        "\r\n",
        "LYRIC_LEN = 100 # each song has to be > 100 characters\r\n",
        "N = 400 # number of records to pull from each genre\r\n",
        "RANDOM_SEED = 10 # random seed to make results repeatable\r\n",
        "\r\n",
        "#Separando em treino e teste\r\n",
        "\r\n",
        "\r\n",
        "from sklearn.utils import shuffle\r\n",
        "from nltk.corpus import stopwords\r\n",
        "\r\n",
        "train_df = pd.DataFrame()\r\n",
        "test_df = pd.DataFrame()\r\n",
        "\r\n",
        "for letra in cantoras: # loop over each genre\r\n",
        "    subset = df2[ # create a subset \r\n",
        "        (df2.letra.str.len() > LYRIC_LEN)\r\n",
        "    ]\r\n",
        "    train_set = subset.sample(n=N, random_state=RANDOM_SEED)\r\n",
        "    test_set = subset.drop(train_set.index)\r\n",
        "    train_df = train_df.append(train_set) # append subsets to the master sets\r\n",
        "    test_df = test_df.append(test_set)\r\n",
        "\r\n",
        "\r\n",
        "train_df = shuffle(train_df)\r\n",
        "test_df = shuffle(test_df)"
      ],
      "execution_count": 132,
      "outputs": []
    },
    {
      "cell_type": "code",
      "metadata": {
        "colab": {
          "base_uri": "https://localhost:8080/"
        },
        "id": "evWNAzn8YLcn",
        "outputId": "08b6d9d1-5496-4b95-8032-1e7152df29c7"
      },
      "source": [
        "test_df.info()"
      ],
      "execution_count": 133,
      "outputs": [
        {
          "output_type": "stream",
          "text": [
            "<class 'pandas.core.frame.DataFrame'>\n",
            "Int64Index: 232 entries, 323 to 238\n",
            "Data columns (total 2 columns):\n",
            " #   Column   Non-Null Count  Dtype \n",
            "---  ------   --------------  ----- \n",
            " 0   letra    232 non-null    object\n",
            " 1   artista  232 non-null    object\n",
            "dtypes: object(2)\n",
            "memory usage: 5.4+ KB\n"
          ],
          "name": "stdout"
        }
      ]
    },
    {
      "cell_type": "code",
      "metadata": {
        "id": "B8ZeLeIOMiLB"
      },
      "source": [
        "from sklearn.feature_extraction.text import CountVectorizer\r\n",
        "from sklearn.naive_bayes import MultinomialNB\r\n",
        "from sklearn.pipeline import Pipeline\r\n",
        "\r\n",
        "# define our model\r\n",
        "text_clf = Pipeline(\r\n",
        "    [('vect', CountVectorizer()),\r\n",
        "     ('clf', MultinomialNB(alpha=0.1))])"
      ],
      "execution_count": 134,
      "outputs": []
    },
    {
      "cell_type": "markdown",
      "metadata": {
        "id": "uqBkaBIGFb31"
      },
      "source": [
        "## Treinando o Modelo"
      ]
    },
    {
      "cell_type": "code",
      "metadata": {
        "colab": {
          "base_uri": "https://localhost:8080/"
        },
        "id": "2S58EmemFsgD",
        "outputId": "d491ca4d-9db4-4171-db88-c9c9f71485f3"
      },
      "source": [
        "# train our model on training data\r\n",
        "text_clf.fit(train_df.letra, train_df.artista)  "
      ],
      "execution_count": 143,
      "outputs": [
        {
          "output_type": "execute_result",
          "data": {
            "text/plain": [
              "Pipeline(memory=None,\n",
              "         steps=[('vect',\n",
              "                 CountVectorizer(analyzer='word', binary=False,\n",
              "                                 decode_error='strict',\n",
              "                                 dtype=<class 'numpy.int64'>, encoding='utf-8',\n",
              "                                 input='content', lowercase=True, max_df=1.0,\n",
              "                                 max_features=None, min_df=1,\n",
              "                                 ngram_range=(1, 1), preprocessor=None,\n",
              "                                 stop_words=None, strip_accents=None,\n",
              "                                 token_pattern='(?u)\\\\b\\\\w\\\\w+\\\\b',\n",
              "                                 tokenizer=None, vocabulary=None)),\n",
              "                ('clf',\n",
              "                 MultinomialNB(alpha=0.1, class_prior=None, fit_prior=True))],\n",
              "         verbose=False)"
            ]
          },
          "metadata": {
            "tags": []
          },
          "execution_count": 143
        }
      ]
    },
    {
      "cell_type": "code",
      "metadata": {
        "id": "mWoy32P8Ft6Y",
        "colab": {
          "base_uri": "https://localhost:8080/"
        },
        "outputId": "aa413897-e35a-494c-9484-9a2af66ffd89"
      },
      "source": [
        "# score our model on testing data\r\n",
        "predicted = text_clf.predict(test_df.letra)\r\n",
        "np.mean(predicted == test_df.artista)"
      ],
      "execution_count": 144,
      "outputs": [
        {
          "output_type": "execute_result",
          "data": {
            "text/plain": [
              "0.7413793103448276"
            ]
          },
          "metadata": {
            "tags": []
          },
          "execution_count": 144
        }
      ]
    }
  ]
}