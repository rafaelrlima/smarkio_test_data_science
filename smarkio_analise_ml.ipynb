{
  "nbformat": 4,
  "nbformat_minor": 0,
  "metadata": {
    "colab": {
      "name": "smarkio_analise_ml.ipynb",
      "provenance": [],
      "collapsed_sections": [],
      "mount_file_id": "1AZ9vRI9-BXxGz1AJN6WCxLiZWtV93_3U",
      "authorship_tag": "ABX9TyPaFJDd/KE8IbvXFK3xWKUt",
      "include_colab_link": true
    },
    "kernelspec": {
      "display_name": "Python 3",
      "name": "python3"
    }
  },
  "cells": [
    {
      "cell_type": "markdown",
      "metadata": {
        "id": "view-in-github",
        "colab_type": "text"
      },
      "source": [
        "<a href=\"https://colab.research.google.com/github/rafaelrlima/smarkio_test_data_science/blob/main/smarkio_analise_ml.ipynb\" target=\"_parent\"><img src=\"https://colab.research.google.com/assets/colab-badge.svg\" alt=\"Open In Colab\"/></a>"
      ]
    },
    {
      "cell_type": "markdown",
      "metadata": {
        "id": "00WPhUfPc44b"
      },
      "source": [
        "# Teste Ciência de Dados Smarkio - Análise ML"
      ]
    },
    {
      "cell_type": "markdown",
      "metadata": {
        "id": "THtHnZOx2hXV"
      },
      "source": [
        "Esse projeto foi publicado em: https://github.com/rafaelrlima/smarkio_test_data_science\r\n",
        "\r\n",
        "Teste realizado por: Rafael Ribeiro de Lima\r\n",
        "\r\n",
        "Status: Em execução\r\n",
        "\r\n",
        "Etapas executadas nesse arquivo:\r\n",
        "1. Análise exploratória dos dados utilizando estatística descritiva e inferencial,\r\n",
        "considerando uma, duas e/ou mais variáveis;\r\n",
        "2. Calcule o desempenho do modelo de classificação utilizando pelo menos três\r\n",
        "métricas;\r\n",
        "3. Crie um classificador que tenha como output se os dados com status igual a\r\n",
        "revision estão corretos ou não (Sugestão : Técnica de cross-validation K-fold);\r\n",
        "4. Compare três métricas de avaliação aplicadas ao modelo e descreva sobre a\r\n",
        "diferença;"
      ]
    },
    {
      "cell_type": "markdown",
      "metadata": {
        "id": "dWv3ZlwX48UC"
      },
      "source": [
        "## Imports"
      ]
    },
    {
      "cell_type": "code",
      "metadata": {
        "id": "msjxezEXsuPT"
      },
      "source": [
        "import pandas as pd\r\n",
        "import numpy as np\r\n",
        "from pandas import DataFrame\r\n",
        "\r\n",
        "from sklearn.preprocessing import LabelEncoder #pré-processamento\r\n",
        "from sklearn.preprocessing import MinMaxScaler #padronização\r\n",
        "from sklearn.neighbors import KNeighborsClassifier #classificador\r\n",
        "from sklearn.model_selection import train_test_split #separando em dados teste e treinamento \r\n",
        "from sklearn.metrics import classification_report # metricas de validação\r\n",
        "from sklearn.metrics import accuracy_score #acuracia\r\n",
        "from sklearn.metrics import precision_score #precision\r\n",
        "from sklearn.metrics import recall_score #recall\r\n",
        "from sklearn.metrics import f1_score #f1-score\r\n",
        "from sklearn.metrics import roc_auc_score #area sob curva roc\r\n",
        "from sklearn.metrics import roc_curve #curva roc\r\n",
        "from sklearn.metrics import confusion_matrix #matriz de confusão\r\n",
        "\r\n",
        "\r\n",
        "import matplotlib.pyplot as plt\r\n",
        "plt.style.use('classic')\r\n",
        "%matplotlib inline\r\n",
        "import seaborn as sns\r\n",
        "sns.set()"
      ],
      "execution_count": 58,
      "outputs": []
    },
    {
      "cell_type": "markdown",
      "metadata": {
        "id": "M-8HtZ71464i"
      },
      "source": [
        "## Carregando Dataset"
      ]
    },
    {
      "cell_type": "code",
      "metadata": {
        "id": "pIhHA0x_dp-_"
      },
      "source": [
        "\r\n",
        "column_names = [\"Pred_class\", \"probabilidade\" , \"status\", \"True_class\"]\r\n",
        "\r\n",
        "xls = '/content/drive/MyDrive/Colab Notebooks/teste_smarkio_lbs.xls'\r\n",
        "\r\n",
        "data = pd.read_excel(xls, sheet_name='Análise_ML')\r\n"
      ],
      "execution_count": 59,
      "outputs": []
    },
    {
      "cell_type": "markdown",
      "metadata": {
        "id": "OHlgNRRN5FZU"
      },
      "source": [
        "## Explorando os Dados"
      ]
    },
    {
      "cell_type": "code",
      "metadata": {
        "id": "6Fy3NZ74f8zy",
        "colab": {
          "base_uri": "https://localhost:8080/"
        },
        "outputId": "073330d6-658b-45ba-aa1d-40be7c5a1d05"
      },
      "source": [
        "data.head"
      ],
      "execution_count": 60,
      "outputs": [
        {
          "output_type": "execute_result",
          "data": {
            "text/plain": [
              "<bound method NDFrame.head of      Pred_class  probabilidade    status  True_class\n",
              "0             2       0.079892  approved         0.0\n",
              "1             2       0.379377  approved        74.0\n",
              "2             2       0.379377  approved        74.0\n",
              "3             2       0.420930  approved        74.0\n",
              "4             2       0.607437  approved         NaN\n",
              "..          ...            ...       ...         ...\n",
              "638          60       0.543772  revision         NaN\n",
              "639          60       0.553846  revision         NaN\n",
              "640          77       0.606065  revision         NaN\n",
              "641          84       0.561842  revision         NaN\n",
              "642          96       0.340740  revision         NaN\n",
              "\n",
              "[643 rows x 4 columns]>"
            ]
          },
          "metadata": {
            "tags": []
          },
          "execution_count": 60
        }
      ]
    },
    {
      "cell_type": "code",
      "metadata": {
        "id": "GLTGJGXJozCX",
        "colab": {
          "base_uri": "https://localhost:8080/"
        },
        "outputId": "ed4b8a0d-ccd5-4312-e199-2c99f1ed4736"
      },
      "source": [
        "data.info()"
      ],
      "execution_count": 61,
      "outputs": [
        {
          "output_type": "stream",
          "text": [
            "<class 'pandas.core.frame.DataFrame'>\n",
            "RangeIndex: 643 entries, 0 to 642\n",
            "Data columns (total 4 columns):\n",
            " #   Column         Non-Null Count  Dtype  \n",
            "---  ------         --------------  -----  \n",
            " 0   Pred_class     643 non-null    int64  \n",
            " 1   probabilidade  643 non-null    float64\n",
            " 2   status         643 non-null    object \n",
            " 3   True_class     181 non-null    float64\n",
            "dtypes: float64(2), int64(1), object(1)\n",
            "memory usage: 20.2+ KB\n"
          ],
          "name": "stdout"
        }
      ]
    },
    {
      "cell_type": "code",
      "metadata": {
        "colab": {
          "base_uri": "https://localhost:8080/",
          "height": 297
        },
        "id": "2xxqrzIvt1EC",
        "outputId": "9f2e7fd5-9dfd-4720-bf9b-4c03517cd9a0"
      },
      "source": [
        "data.describe()"
      ],
      "execution_count": 62,
      "outputs": [
        {
          "output_type": "execute_result",
          "data": {
            "text/html": [
              "<div>\n",
              "<style scoped>\n",
              "    .dataframe tbody tr th:only-of-type {\n",
              "        vertical-align: middle;\n",
              "    }\n",
              "\n",
              "    .dataframe tbody tr th {\n",
              "        vertical-align: top;\n",
              "    }\n",
              "\n",
              "    .dataframe thead th {\n",
              "        text-align: right;\n",
              "    }\n",
              "</style>\n",
              "<table border=\"1\" class=\"dataframe\">\n",
              "  <thead>\n",
              "    <tr style=\"text-align: right;\">\n",
              "      <th></th>\n",
              "      <th>Pred_class</th>\n",
              "      <th>probabilidade</th>\n",
              "      <th>True_class</th>\n",
              "    </tr>\n",
              "  </thead>\n",
              "  <tbody>\n",
              "    <tr>\n",
              "      <th>count</th>\n",
              "      <td>643.000000</td>\n",
              "      <td>643.000000</td>\n",
              "      <td>181.000000</td>\n",
              "    </tr>\n",
              "    <tr>\n",
              "      <th>mean</th>\n",
              "      <td>52.712286</td>\n",
              "      <td>0.622436</td>\n",
              "      <td>38.574586</td>\n",
              "    </tr>\n",
              "    <tr>\n",
              "      <th>std</th>\n",
              "      <td>37.602068</td>\n",
              "      <td>0.266811</td>\n",
              "      <td>39.581017</td>\n",
              "    </tr>\n",
              "    <tr>\n",
              "      <th>min</th>\n",
              "      <td>2.000000</td>\n",
              "      <td>0.043858</td>\n",
              "      <td>0.000000</td>\n",
              "    </tr>\n",
              "    <tr>\n",
              "      <th>25%</th>\n",
              "      <td>12.000000</td>\n",
              "      <td>0.408017</td>\n",
              "      <td>0.000000</td>\n",
              "    </tr>\n",
              "    <tr>\n",
              "      <th>50%</th>\n",
              "      <td>59.000000</td>\n",
              "      <td>0.616809</td>\n",
              "      <td>24.000000</td>\n",
              "    </tr>\n",
              "    <tr>\n",
              "      <th>75%</th>\n",
              "      <td>81.000000</td>\n",
              "      <td>0.870083</td>\n",
              "      <td>74.000000</td>\n",
              "    </tr>\n",
              "    <tr>\n",
              "      <th>max</th>\n",
              "      <td>118.000000</td>\n",
              "      <td>1.000000</td>\n",
              "      <td>117.000000</td>\n",
              "    </tr>\n",
              "  </tbody>\n",
              "</table>\n",
              "</div>"
            ],
            "text/plain": [
              "       Pred_class  probabilidade  True_class\n",
              "count  643.000000     643.000000  181.000000\n",
              "mean    52.712286       0.622436   38.574586\n",
              "std     37.602068       0.266811   39.581017\n",
              "min      2.000000       0.043858    0.000000\n",
              "25%     12.000000       0.408017    0.000000\n",
              "50%     59.000000       0.616809   24.000000\n",
              "75%     81.000000       0.870083   74.000000\n",
              "max    118.000000       1.000000  117.000000"
            ]
          },
          "metadata": {
            "tags": []
          },
          "execution_count": 62
        }
      ]
    },
    {
      "cell_type": "code",
      "metadata": {
        "colab": {
          "base_uri": "https://localhost:8080/",
          "height": 80
        },
        "id": "oD45ljqJuCuz",
        "outputId": "871d243e-e2a5-4e5d-b9ec-0f0b1bf6a1f7"
      },
      "source": [
        "data.mode()"
      ],
      "execution_count": 63,
      "outputs": [
        {
          "output_type": "execute_result",
          "data": {
            "text/html": [
              "<div>\n",
              "<style scoped>\n",
              "    .dataframe tbody tr th:only-of-type {\n",
              "        vertical-align: middle;\n",
              "    }\n",
              "\n",
              "    .dataframe tbody tr th {\n",
              "        vertical-align: top;\n",
              "    }\n",
              "\n",
              "    .dataframe thead th {\n",
              "        text-align: right;\n",
              "    }\n",
              "</style>\n",
              "<table border=\"1\" class=\"dataframe\">\n",
              "  <thead>\n",
              "    <tr style=\"text-align: right;\">\n",
              "      <th></th>\n",
              "      <th>Pred_class</th>\n",
              "      <th>probabilidade</th>\n",
              "      <th>status</th>\n",
              "      <th>True_class</th>\n",
              "    </tr>\n",
              "  </thead>\n",
              "  <tbody>\n",
              "    <tr>\n",
              "      <th>0</th>\n",
              "      <td>3</td>\n",
              "      <td>1.0</td>\n",
              "      <td>approved</td>\n",
              "      <td>0.0</td>\n",
              "    </tr>\n",
              "  </tbody>\n",
              "</table>\n",
              "</div>"
            ],
            "text/plain": [
              "   Pred_class  probabilidade    status  True_class\n",
              "0           3            1.0  approved         0.0"
            ]
          },
          "metadata": {
            "tags": []
          },
          "execution_count": 63
        }
      ]
    },
    {
      "cell_type": "code",
      "metadata": {
        "colab": {
          "base_uri": "https://localhost:8080/"
        },
        "id": "qQyR_jLQujL2",
        "outputId": "f9a92f25-610a-444d-ed58-01e0ff871b11"
      },
      "source": [
        "print(data)"
      ],
      "execution_count": 64,
      "outputs": [
        {
          "output_type": "stream",
          "text": [
            "     Pred_class  probabilidade    status  True_class\n",
            "0             2       0.079892  approved         0.0\n",
            "1             2       0.379377  approved        74.0\n",
            "2             2       0.379377  approved        74.0\n",
            "3             2       0.420930  approved        74.0\n",
            "4             2       0.607437  approved         NaN\n",
            "..          ...            ...       ...         ...\n",
            "638          60       0.543772  revision         NaN\n",
            "639          60       0.553846  revision         NaN\n",
            "640          77       0.606065  revision         NaN\n",
            "641          84       0.561842  revision         NaN\n",
            "642          96       0.340740  revision         NaN\n",
            "\n",
            "[643 rows x 4 columns]\n"
          ],
          "name": "stdout"
        }
      ]
    },
    {
      "cell_type": "markdown",
      "metadata": {
        "id": "d2a2til4v241"
      },
      "source": [
        "##Criando Um classificador para preencher a coluna True_class gerando a coluna True_class_new\r\n"
      ]
    },
    {
      "cell_type": "code",
      "metadata": {
        "id": "AHgKtOs5v-xF"
      },
      "source": [
        "df = pd.DataFrame(data, columns = ['Pred_class' , 'probabilidade' , 'status' , 'True_class'])\r\n",
        "df.columns = ['Pred_class' , 'probabilidade' , 'status' , 'True_class']\r\n",
        "df['True_class_new'] = 0\r\n"
      ],
      "execution_count": 65,
      "outputs": []
    },
    {
      "cell_type": "code",
      "metadata": {
        "colab": {
          "base_uri": "https://localhost:8080/"
        },
        "id": "CIBLVoqCxsp4",
        "outputId": "39986a59-52c1-48bd-a7bf-3862818b560f"
      },
      "source": [
        "print(df)"
      ],
      "execution_count": 66,
      "outputs": [
        {
          "output_type": "stream",
          "text": [
            "     Pred_class  probabilidade    status  True_class  True_class_new\n",
            "0             2       0.079892  approved         0.0               0\n",
            "1             2       0.379377  approved        74.0               0\n",
            "2             2       0.379377  approved        74.0               0\n",
            "3             2       0.420930  approved        74.0               0\n",
            "4             2       0.607437  approved         NaN               0\n",
            "..          ...            ...       ...         ...             ...\n",
            "638          60       0.543772  revision         NaN               0\n",
            "639          60       0.553846  revision         NaN               0\n",
            "640          77       0.606065  revision         NaN               0\n",
            "641          84       0.561842  revision         NaN               0\n",
            "642          96       0.340740  revision         NaN               0\n",
            "\n",
            "[643 rows x 5 columns]\n"
          ],
          "name": "stdout"
        }
      ]
    },
    {
      "cell_type": "code",
      "metadata": {
        "id": "1DSLEuXLxiS8"
      },
      "source": [
        "import warnings\r\n",
        "warnings.filterwarnings('ignore')\r\n",
        "\r\n",
        "for b in df.itertuples():\r\n",
        "    if (b.True_class >= 0):\r\n",
        "        df.True_class_new[b.Index] = b.True_class\r\n",
        "    else:\r\n",
        "        df.True_class_new[b.Index] = b.Pred_class\r\n",
        "\r\n"
      ],
      "execution_count": 67,
      "outputs": []
    },
    {
      "cell_type": "code",
      "metadata": {
        "colab": {
          "base_uri": "https://localhost:8080/"
        },
        "id": "LIUnRzOsxbH0",
        "outputId": "443d1887-b5e5-4bfa-bb34-71cef2992d59"
      },
      "source": [
        "print(df)"
      ],
      "execution_count": 68,
      "outputs": [
        {
          "output_type": "stream",
          "text": [
            "     Pred_class  probabilidade    status  True_class  True_class_new\n",
            "0             2       0.079892  approved         0.0               0\n",
            "1             2       0.379377  approved        74.0              74\n",
            "2             2       0.379377  approved        74.0              74\n",
            "3             2       0.420930  approved        74.0              74\n",
            "4             2       0.607437  approved         NaN               2\n",
            "..          ...            ...       ...         ...             ...\n",
            "638          60       0.543772  revision         NaN              60\n",
            "639          60       0.553846  revision         NaN              60\n",
            "640          77       0.606065  revision         NaN              77\n",
            "641          84       0.561842  revision         NaN              84\n",
            "642          96       0.340740  revision         NaN              96\n",
            "\n",
            "[643 rows x 5 columns]\n"
          ],
          "name": "stdout"
        }
      ]
    },
    {
      "cell_type": "code",
      "metadata": {
        "colab": {
          "base_uri": "https://localhost:8080/"
        },
        "id": "XTgNhNW7xkkM",
        "outputId": "6a8ce628-0a43-4af2-b36b-94dea8ac2c86"
      },
      "source": [
        "df.info()"
      ],
      "execution_count": 69,
      "outputs": [
        {
          "output_type": "stream",
          "text": [
            "<class 'pandas.core.frame.DataFrame'>\n",
            "RangeIndex: 643 entries, 0 to 642\n",
            "Data columns (total 5 columns):\n",
            " #   Column          Non-Null Count  Dtype  \n",
            "---  ------          --------------  -----  \n",
            " 0   Pred_class      643 non-null    int64  \n",
            " 1   probabilidade   643 non-null    float64\n",
            " 2   status          643 non-null    object \n",
            " 3   True_class      181 non-null    float64\n",
            " 4   True_class_new  643 non-null    int64  \n",
            "dtypes: float64(2), int64(2), object(1)\n",
            "memory usage: 25.2+ KB\n"
          ],
          "name": "stdout"
        }
      ]
    },
    {
      "cell_type": "code",
      "metadata": {
        "colab": {
          "base_uri": "https://localhost:8080/",
          "height": 280
        },
        "id": "kGSmFTkT8maf",
        "outputId": "6d1eed39-177c-4069-8b0e-5bfdc386c4f2"
      },
      "source": [
        "boxplot = df.boxplot(column=['Pred_class', 'True_class_new'])"
      ],
      "execution_count": 70,
      "outputs": [
        {
          "output_type": "display_data",
          "data": {
            "image/png": "[encoded data removed]",
            "text/plain": [
              "<Figure size 432x288 with 1 Axes>"
            ]
          },
          "metadata": {
            "tags": []
          }
        }
      ]
    },
    {
      "cell_type": "code",
      "metadata": {
        "colab": {
          "base_uri": "https://localhost:8080/",
          "height": 307
        },
        "id": "Ayt0kn319n2w",
        "outputId": "007036b0-feb2-4e5c-90db-9ad7e0c4bb0c"
      },
      "source": [
        "plt.scatter(df['Pred_class'], df['True_class_new'])\r\n",
        "plt.title('Scatterplot da correlação Classe Identidade e Classe Verdadeira')\r\n",
        "plt.xlabel('Pred_class')\r\n",
        "plt.ylabel('True_class_new')\r\n",
        "plt.show()"
      ],
      "execution_count": 71,
      "outputs": [
        {
          "output_type": "display_data",
          "data": {
            "image/png": "[encoded data removed]",
            "text/plain": [
              "<Figure size 432x288 with 1 Axes>"
            ]
          },
          "metadata": {
            "tags": []
          }
        }
      ]
    },
    {
      "cell_type": "markdown",
      "metadata": {
        "id": "8wN0uMJX6NHr"
      },
      "source": [
        "## Calcule o desempenho do modelo de classificação utilizando pelo menos três métricas"
      ]
    },
    {
      "cell_type": "code",
      "metadata": {
        "id": "muR09nPH6hf2"
      },
      "source": [
        "#Criando variaveis independentes e dependentes\r\n",
        "#utilizaremos apenas as variáveis numéricas\r\n",
        "\r\n",
        "y = df['Pred_class']\r\n",
        "X = df.iloc[ :, [1,4]].values"
      ],
      "execution_count": 72,
      "outputs": []
    },
    {
      "cell_type": "code",
      "metadata": {
        "id": "vYVDxz9fAONq"
      },
      "source": [
        "#Pré-Processamento Básico Padronizando as Variáveis Contínuas\r\n",
        "X = MinMaxScaler().fit_transform(X)"
      ],
      "execution_count": 73,
      "outputs": []
    },
    {
      "cell_type": "code",
      "metadata": {
        "id": "3BIcxrTZAhmV"
      },
      "source": [
        "#Separando o dados em Treino e Teste\r\n",
        "x_treino, x_teste, y_treino,y_teste  = train_test_split(X, y, test_size = 0.25,random_state = 1)"
      ],
      "execution_count": 74,
      "outputs": []
    },
    {
      "cell_type": "code",
      "metadata": {
        "colab": {
          "base_uri": "https://localhost:8080/"
        },
        "id": "OFqaffuTApMv",
        "outputId": "59e7c1aa-2cb7-4a19-fa06-84b401c9d0dc"
      },
      "source": [
        "#Ajustando o KNN nos dados de Treino\r\n",
        "knn = KNeighborsClassifier()\r\n",
        "knn.fit(x_treino, y_treino)"
      ],
      "execution_count": 75,
      "outputs": [
        {
          "output_type": "execute_result",
          "data": {
            "text/plain": [
              "KNeighborsClassifier(algorithm='auto', leaf_size=30, metric='minkowski',\n",
              "                     metric_params=None, n_jobs=None, n_neighbors=5, p=2,\n",
              "                     weights='uniform')"
            ]
          },
          "metadata": {
            "tags": []
          },
          "execution_count": 75
        }
      ]
    },
    {
      "cell_type": "code",
      "metadata": {
        "colab": {
          "base_uri": "https://localhost:8080/"
        },
        "id": "lV0n_lfzAxMA",
        "outputId": "250eb2b8-9533-42fb-9ce8-052bb0f5ddbe"
      },
      "source": [
        "#Calculando a Matriz de Confusão nos dados de Teste\r\n",
        "resultado_knn = knn.predict(x_teste)\r\n",
        "print (pd.crosstab(y_teste,resultado_knn, rownames=['Real'], colnames=['Predito'], margins=True))"
      ],
      "execution_count": 76,
      "outputs": [
        {
          "output_type": "stream",
          "text": [
            "Predito   2   3  4  11  12  15  21  22  ...  85  87  96  99  103  108  110  All\n",
            "Real                                    ...                                    \n",
            "2         9   3  3   0   0   0   1   0  ...   0   0   0   0    0    0    0   17\n",
            "3         6  12  1   0   0   0   0   0  ...   0   0   0   0    0    0    0   20\n",
            "4         0   0  1   0   0   0   0   0  ...   0   0   0   0    0    0    0    2\n",
            "11        0   0  0   0   0   0   0   0  ...   0   0   0   0    0    0    0    1\n",
            "12        0   0  2   0   0   0   0   0  ...   0   0   0   0    0    0    0    2\n",
            "17        0   0  0   1   0   1   0   0  ...   0   0   0   0    0    0    0    2\n",
            "22        0   0  0   0   0   0   0   2  ...   0   0   0   0    0    0    0    2\n",
            "24        0   1  0   0   0   0   0   0  ...   0   0   0   0    0    0    0    3\n",
            "25        1   1  0   0   0   0   0   1  ...   0   0   0   0    0    0    0    3\n",
            "26        0   0  0   0   0   0   0   0  ...   0   0   0   0    0    0    0    1\n",
            "29        0   0  0   0   0   0   0   0  ...   0   0   0   0    0    0    0    1\n",
            "30        0   0  0   0   0   0   0   0  ...   0   0   0   0    0    0    0    1\n",
            "31        0   0  0   0   0   0   0   0  ...   0   0   0   0    0    0    0    1\n",
            "32        0   0  0   0   0   0   0   0  ...   0   0   0   0    0    0    0    1\n",
            "48        0   0  0   0   0   0   1   0  ...   0   0   0   0    0    0    0    1\n",
            "49        0   0  0   0   0   0   0   0  ...   0   0   0   0    0    0    0    1\n",
            "50        0   0  0   0   0   0   0   0  ...   0   0   0   0    0    0    0    1\n",
            "52        0   0  0   0   0   0   0   0  ...   0   0   0   0    0    0    0    8\n",
            "54        0   0  0   0   0   0   0   0  ...   0   0   0   0    0    0    0    1\n",
            "55        0   0  0   0   0   0   0   0  ...   0   0   0   0    0    0    0    1\n",
            "59        0   0  0   0   0   0   0   0  ...   0   0   0   0    0    0    0    1\n",
            "60        1   0  0   0   0   0   0   0  ...   0   0   0   0    0    0    0    8\n",
            "62        0   0  0   0   0   0   0   0  ...   0   0   0   0    0    0    0    1\n",
            "63        0   0  0   0   0   0   0   0  ...   0   0   0   0    0    0    0    1\n",
            "69        0   0  0   0   0   0   0   0  ...   0   0   0   0    0    0    0    1\n",
            "74        2   1  0   0   0   0   0   0  ...   0   0   0   0    0    0    0   22\n",
            "76        0   0  0   0   0   0   0   0  ...   0   0   0   0    0    1    0    3\n",
            "77        1   0  0   0   0   0   1   0  ...   0   0   0   0    0    0    0   11\n",
            "78        0   0  0   0   0   0   0   0  ...   0   0   0   0    0    0    0    1\n",
            "79        0   0  0   0   0   0   0   0  ...   0   0   0   0    0    0    0    3\n",
            "81        0   0  0   0   0   0   0   0  ...   0   0   0   0    0    0    0    1\n",
            "82        1   2  0   0   0   0   0   0  ...   0   0   0   0    0    0    0    3\n",
            "85        1   0  1   0   1   0   0   1  ...   0   0   0   0    0    0    2    7\n",
            "86        0   0  0   0   0   0   0   0  ...   1   0   0   0    0    0    0    3\n",
            "87        0   0  0   0   0   0   0   0  ...   0   1   0   0    0    0    0    1\n",
            "90        0   0  0   0   0   0   0   0  ...   0   0   1   0    0    0    0    1\n",
            "92        0   0  0   0   0   0   0   0  ...   0   1   0   0    0    0    0    1\n",
            "96        0   0  0   0   0   0   0   0  ...   0   0   4   0    0    0    0    4\n",
            "98        0   0  0   0   0   0   0   0  ...   0   0   1   0    0    0    0    1\n",
            "99        2   0  0   0   0   0   0   0  ...   0   0   2   0    0    0    0    5\n",
            "103       0   0  0   0   0   0   0   0  ...   0   0   0   0    2    0    0    2\n",
            "104       1   0  0   0   0   0   0   0  ...   0   0   0   0    0    0    0    1\n",
            "106       0   0  0   0   0   0   0   0  ...   0   0   0   0    0    0    0    2\n",
            "108       0   0  0   0   0   0   0   0  ...   0   0   0   1    0    0    0    1\n",
            "109       0   0  0   0   0   0   0   0  ...   0   0   0   0    0    0    0    1\n",
            "110       0   0  0   0   0   0   0   0  ...   1   0   1   0    0    2    0    4\n",
            "118       0   0  1   0   0   0   0   0  ...   0   0   0   0    0    0    0    1\n",
            "All      25  20  9   1   1   1   3   4  ...   2   2   9   1    2    3    2  161\n",
            "\n",
            "[48 rows x 32 columns]\n"
          ],
          "name": "stdout"
        }
      ]
    },
    {
      "cell_type": "markdown",
      "metadata": {
        "id": "TVqwcpyzBDNI"
      },
      "source": [
        "###Calculando as métricas de validação"
      ]
    },
    {
      "cell_type": "code",
      "metadata": {
        "colab": {
          "base_uri": "https://localhost:8080/"
        },
        "id": "uZt0sjoRCiP3",
        "outputId": "03c6a524-0813-4355-a66b-ce372beef064"
      },
      "source": [
        "print(classification_report(y_teste, resultado_knn))"
      ],
      "execution_count": 77,
      "outputs": [
        {
          "output_type": "stream",
          "text": [
            "              precision    recall  f1-score   support\n",
            "\n",
            "           2       0.36      0.53      0.43        17\n",
            "           3       0.60      0.60      0.60        20\n",
            "           4       0.11      0.50      0.18         2\n",
            "          11       0.00      0.00      0.00         1\n",
            "          12       0.00      0.00      0.00         2\n",
            "          15       0.00      0.00      0.00         0\n",
            "          17       0.00      0.00      0.00         2\n",
            "          21       0.00      0.00      0.00         0\n",
            "          22       0.50      1.00      0.67         2\n",
            "          24       0.00      0.00      0.00         3\n",
            "          25       0.00      0.00      0.00         3\n",
            "          26       0.00      0.00      0.00         1\n",
            "          29       0.00      0.00      0.00         1\n",
            "          30       0.00      0.00      0.00         1\n",
            "          31       0.00      0.00      0.00         1\n",
            "          32       0.50      1.00      0.67         1\n",
            "          33       0.00      0.00      0.00         0\n",
            "          48       0.00      0.00      0.00         1\n",
            "          49       0.00      0.00      0.00         1\n",
            "          50       0.00      0.00      0.00         1\n",
            "          52       0.73      1.00      0.84         8\n",
            "          54       0.00      0.00      0.00         1\n",
            "          55       0.14      1.00      0.25         1\n",
            "          56       0.00      0.00      0.00         0\n",
            "          59       0.00      0.00      0.00         1\n",
            "          60       0.56      0.62      0.59         8\n",
            "          62       0.00      0.00      0.00         1\n",
            "          63       0.00      0.00      0.00         1\n",
            "          68       0.00      0.00      0.00         0\n",
            "          69       0.00      0.00      0.00         1\n",
            "          74       0.58      0.64      0.61        22\n",
            "          76       0.50      0.33      0.40         3\n",
            "          77       0.44      0.36      0.40        11\n",
            "          78       0.00      0.00      0.00         1\n",
            "          79       0.00      0.00      0.00         3\n",
            "          81       0.00      0.00      0.00         1\n",
            "          82       0.00      0.00      0.00         3\n",
            "          85       0.00      0.00      0.00         7\n",
            "          86       0.00      0.00      0.00         3\n",
            "          87       0.50      1.00      0.67         1\n",
            "          90       0.00      0.00      0.00         1\n",
            "          92       0.00      0.00      0.00         1\n",
            "          96       0.44      1.00      0.62         4\n",
            "          98       0.00      0.00      0.00         1\n",
            "          99       0.00      0.00      0.00         5\n",
            "         103       1.00      1.00      1.00         2\n",
            "         104       0.00      0.00      0.00         1\n",
            "         106       0.00      0.00      0.00         2\n",
            "         108       0.00      0.00      0.00         1\n",
            "         109       0.00      0.00      0.00         1\n",
            "         110       0.00      0.00      0.00         4\n",
            "         118       0.00      0.00      0.00         1\n",
            "\n",
            "    accuracy                           0.40       161\n",
            "   macro avg       0.13      0.20      0.15       161\n",
            "weighted avg       0.33      0.40      0.36       161\n",
            "\n"
          ],
          "name": "stdout"
        }
      ]
    },
    {
      "cell_type": "markdown",
      "metadata": {
        "id": "RSgD6ZhC_bzr"
      },
      "source": [
        "##Crie um classificador que tenha como output se os dados com status igual a revision estão corretos ou não (Sugestão : Técnica de cross-validation K-fold);"
      ]
    },
    {
      "cell_type": "code",
      "metadata": {
        "id": "R3WOg0Mu212u"
      },
      "source": [
        "from sklearn.model_selection import cross_val_score"
      ],
      "execution_count": 78,
      "outputs": []
    },
    {
      "cell_type": "code",
      "metadata": {
        "id": "65FGJKRh31Y6"
      },
      "source": [
        "# data and target\r\n",
        "dados, target = df.drop(columns = ['status','True_class']), df['status']\r\n",
        "#dados.drop(columns = ['True_class'])"
      ],
      "execution_count": 79,
      "outputs": []
    },
    {
      "cell_type": "code",
      "metadata": {
        "colab": {
          "base_uri": "https://localhost:8080/"
        },
        "id": "GKS_o9uW5iD0",
        "outputId": "7f541639-b19e-4a4a-f5ac-c27791769e11"
      },
      "source": [
        "print(dados)"
      ],
      "execution_count": 80,
      "outputs": [
        {
          "output_type": "stream",
          "text": [
            "     Pred_class  probabilidade  True_class_new\n",
            "0             2       0.079892               0\n",
            "1             2       0.379377              74\n",
            "2             2       0.379377              74\n",
            "3             2       0.420930              74\n",
            "4             2       0.607437               2\n",
            "..          ...            ...             ...\n",
            "638          60       0.543772              60\n",
            "639          60       0.553846              60\n",
            "640          77       0.606065              77\n",
            "641          84       0.561842              84\n",
            "642          96       0.340740              96\n",
            "\n",
            "[643 rows x 3 columns]\n"
          ],
          "name": "stdout"
        }
      ]
    },
    {
      "cell_type": "code",
      "metadata": {
        "colab": {
          "base_uri": "https://localhost:8080/"
        },
        "id": "p3pdHq3u5l1y",
        "outputId": "00a7ba9f-7637-47bc-b2b7-08a1484c756c"
      },
      "source": [
        "print(target)"
      ],
      "execution_count": 81,
      "outputs": [
        {
          "output_type": "stream",
          "text": [
            "0      approved\n",
            "1      approved\n",
            "2      approved\n",
            "3      approved\n",
            "4      approved\n",
            "         ...   \n",
            "638    revision\n",
            "639    revision\n",
            "640    revision\n",
            "641    revision\n",
            "642    revision\n",
            "Name: status, Length: 643, dtype: object\n"
          ],
          "name": "stdout"
        }
      ]
    },
    {
      "cell_type": "code",
      "metadata": {
        "colab": {
          "base_uri": "https://localhost:8080/"
        },
        "id": "FhqEYmcP59xp",
        "outputId": "f10d86d2-23bc-47e4-de7d-648b0b7aad08"
      },
      "source": [
        "# KNN classifier model\r\n",
        "knn = KNeighborsClassifier()\r\n",
        "\r\n",
        "# K-fold (k=5)\r\n",
        "scores = cross_val_score(knn, dados, target, cv=5, scoring='accuracy')\r\n",
        "\r\n",
        "# Results\r\n",
        "print(\"Accuracy: %0.2f (+/- %0.2f)\" % (scores.mean(), scores.std() * 2))"
      ],
      "execution_count": 82,
      "outputs": [
        {
          "output_type": "stream",
          "text": [
            "Accuracy: 0.92 (+/- 0.04)\n"
          ],
          "name": "stdout"
        }
      ]
    },
    {
      "cell_type": "markdown",
      "metadata": {
        "id": "trFOdbpS5f7O"
      },
      "source": [
        "## Compare três métricas de avaliação aplicadas ao modelo e descreva sobre a diferença"
      ]
    }
  ]
}