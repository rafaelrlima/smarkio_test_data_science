{
  "nbformat": 4,
  "nbformat_minor": 0,
  "metadata": {
    "colab": {
      "name": "smarkio_analise_ml.ipynb",
      "provenance": [],
      "collapsed_sections": [],
      "toc_visible": true,
      "mount_file_id": "1AZ9vRI9-BXxGz1AJN6WCxLiZWtV93_3U",
      "authorship_tag": "ABX9TyNoSoMRI7REWP8YBLHkX44R",
      "include_colab_link": true
    },
    "kernelspec": {
      "display_name": "Python 3",
      "name": "python3"
    }
  },
  "cells": [
    {
      "cell_type": "markdown",
      "metadata": {
        "id": "view-in-github",
        "colab_type": "text"
      },
      "source": [
        "<a href=\"https://colab.research.google.com/github/rafaelrlima/smarkio_test_data_science/blob/main/smarkio_analise_ml.ipynb\" target=\"_parent\"><img src=\"https://colab.research.google.com/assets/colab-badge.svg\" alt=\"Open In Colab\"/></a>"
      ]
    },
    {
      "cell_type": "markdown",
      "metadata": {
        "id": "00WPhUfPc44b"
      },
      "source": [
        "# Teste Ciência de Dados Smarkio - Análise ML"
      ]
    },
    {
      "cell_type": "code",
      "metadata": {
        "id": "msjxezEXsuPT"
      },
      "source": [
        "import pandas as pd"
      ],
      "execution_count": null,
      "outputs": []
    },
    {
      "cell_type": "code",
      "metadata": {
        "id": "pIhHA0x_dp-_"
      },
      "source": [
        "\r\n",
        "column_names = [\"Pred_class\", \"probabilidade\" , \"status\", \"True_class\"]\r\n",
        "\r\n",
        "xls = '/content/drive/MyDrive/Colab Notebooks/teste_smarkio_lbs.xls'\r\n",
        "\r\n",
        "df = pd.read_excel(xls, sheet_name='Análise_ML')\r\n"
      ],
      "execution_count": 87,
      "outputs": []
    },
    {
      "cell_type": "code",
      "metadata": {
        "id": "6Fy3NZ74f8zy",
        "colab": {
          "base_uri": "https://localhost:8080/"
        },
        "outputId": "53ba9447-5c7a-44da-f17f-27aaffd0b102"
      },
      "source": [
        "df.head"
      ],
      "execution_count": 88,
      "outputs": [
        {
          "output_type": "execute_result",
          "data": {
            "text/plain": [
              "<bound method NDFrame.head of      Pred_class  probabilidade    status  True_class\n",
              "0             2       0.079892  approved         0.0\n",
              "1             2       0.379377  approved        74.0\n",
              "2             2       0.379377  approved        74.0\n",
              "3             2       0.420930  approved        74.0\n",
              "4             2       0.607437  approved         NaN\n",
              "..          ...            ...       ...         ...\n",
              "638          60       0.543772  revision         NaN\n",
              "639          60       0.553846  revision         NaN\n",
              "640          77       0.606065  revision         NaN\n",
              "641          84       0.561842  revision         NaN\n",
              "642          96       0.340740  revision         NaN\n",
              "\n",
              "[643 rows x 4 columns]>"
            ]
          },
          "metadata": {
            "tags": []
          },
          "execution_count": 88
        }
      ]
    },
    {
      "cell_type": "code",
      "metadata": {
        "id": "GLTGJGXJozCX"
      },
      "source": [
        ""
      ],
      "execution_count": null,
      "outputs": []
    }
  ]
}