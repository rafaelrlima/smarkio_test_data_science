{
  "nbformat": 4,
  "nbformat_minor": 0,
  "metadata": {
    "colab": {
      "name": "smarkio_analise_ml.ipynb",
      "provenance": [],
      "collapsed_sections": [],
      "toc_visible": true,
      "mount_file_id": "1AZ9vRI9-BXxGz1AJN6WCxLiZWtV93_3U",
      "authorship_tag": "ABX9TyOUpgwtzoe7lozFXMYnbAxL",
      "include_colab_link": true
    },
    "kernelspec": {
      "display_name": "Python 3",
      "name": "python3"
    }
  },
  "cells": [
    {
      "cell_type": "markdown",
      "metadata": {
        "id": "view-in-github",
        "colab_type": "text"
      },
      "source": [
        "<a href=\"https://colab.research.google.com/github/rafaelrlima/smarkio_test_data_science/blob/main/smarkio_analise_ml.ipynb\" target=\"_parent\"><img src=\"https://colab.research.google.com/assets/colab-badge.svg\" alt=\"Open In Colab\"/></a>"
      ]
    },
    {
      "cell_type": "markdown",
      "metadata": {
        "id": "00WPhUfPc44b"
      },
      "source": [
        "# Teste Ciência de Dados Smarkio - Análise ML"
      ]
    },
    {
      "cell_type": "code",
      "metadata": {
        "id": "msjxezEXsuPT"
      },
      "source": [
        "import pandas as pd"
      ],
      "execution_count": 15,
      "outputs": []
    },
    {
      "cell_type": "code",
      "metadata": {
        "id": "pIhHA0x_dp-_"
      },
      "source": [
        "\r\n",
        "column_names = [\"Pred_class\", \"probabilidade\" , \"status\", \"True_class\"]\r\n",
        "\r\n",
        "xls = '/content/drive/MyDrive/Colab Notebooks/teste_smarkio_lbs.xls'\r\n",
        "\r\n",
        "data = pd.read_excel(xls, sheet_name='Análise_ML')\r\n"
      ],
      "execution_count": 16,
      "outputs": []
    },
    {
      "cell_type": "code",
      "metadata": {
        "id": "6Fy3NZ74f8zy",
        "colab": {
          "base_uri": "https://localhost:8080/"
        },
        "outputId": "627c8d54-b142-40a1-856a-47e668645235"
      },
      "source": [
        "data.head"
      ],
      "execution_count": 18,
      "outputs": [
        {
          "output_type": "execute_result",
          "data": {
            "text/plain": [
              "<bound method NDFrame.head of      Pred_class  probabilidade    status  True_class\n",
              "0             2       0.079892  approved         0.0\n",
              "1             2       0.379377  approved        74.0\n",
              "2             2       0.379377  approved        74.0\n",
              "3             2       0.420930  approved        74.0\n",
              "4             2       0.607437  approved         NaN\n",
              "..          ...            ...       ...         ...\n",
              "638          60       0.543772  revision         NaN\n",
              "639          60       0.553846  revision         NaN\n",
              "640          77       0.606065  revision         NaN\n",
              "641          84       0.561842  revision         NaN\n",
              "642          96       0.340740  revision         NaN\n",
              "\n",
              "[643 rows x 4 columns]>"
            ]
          },
          "metadata": {
            "tags": []
          },
          "execution_count": 18
        }
      ]
    },
    {
      "cell_type": "code",
      "metadata": {
        "id": "GLTGJGXJozCX",
        "colab": {
          "base_uri": "https://localhost:8080/"
        },
        "outputId": "b8e3be9a-6641-4436-9041-a6880eeb5d1a"
      },
      "source": [
        "data.info()"
      ],
      "execution_count": 19,
      "outputs": [
        {
          "output_type": "stream",
          "text": [
            "<class 'pandas.core.frame.DataFrame'>\n",
            "RangeIndex: 643 entries, 0 to 642\n",
            "Data columns (total 4 columns):\n",
            " #   Column         Non-Null Count  Dtype  \n",
            "---  ------         --------------  -----  \n",
            " 0   Pred_class     643 non-null    int64  \n",
            " 1   probabilidade  643 non-null    float64\n",
            " 2   status         643 non-null    object \n",
            " 3   True_class     181 non-null    float64\n",
            "dtypes: float64(2), int64(1), object(1)\n",
            "memory usage: 20.2+ KB\n"
          ],
          "name": "stdout"
        }
      ]
    },
    {
      "cell_type": "code",
      "metadata": {
        "colab": {
          "base_uri": "https://localhost:8080/",
          "height": 297
        },
        "id": "2xxqrzIvt1EC",
        "outputId": "7f13aa59-d2b9-4ba3-c17e-1b0a14fff855"
      },
      "source": [
        "data.describe()"
      ],
      "execution_count": 20,
      "outputs": [
        {
          "output_type": "execute_result",
          "data": {
            "text/html": [
              "<div>\n",
              "<style scoped>\n",
              "    .dataframe tbody tr th:only-of-type {\n",
              "        vertical-align: middle;\n",
              "    }\n",
              "\n",
              "    .dataframe tbody tr th {\n",
              "        vertical-align: top;\n",
              "    }\n",
              "\n",
              "    .dataframe thead th {\n",
              "        text-align: right;\n",
              "    }\n",
              "</style>\n",
              "<table border=\"1\" class=\"dataframe\">\n",
              "  <thead>\n",
              "    <tr style=\"text-align: right;\">\n",
              "      <th></th>\n",
              "      <th>Pred_class</th>\n",
              "      <th>probabilidade</th>\n",
              "      <th>True_class</th>\n",
              "    </tr>\n",
              "  </thead>\n",
              "  <tbody>\n",
              "    <tr>\n",
              "      <th>count</th>\n",
              "      <td>643.000000</td>\n",
              "      <td>643.000000</td>\n",
              "      <td>181.000000</td>\n",
              "    </tr>\n",
              "    <tr>\n",
              "      <th>mean</th>\n",
              "      <td>52.712286</td>\n",
              "      <td>0.622436</td>\n",
              "      <td>38.574586</td>\n",
              "    </tr>\n",
              "    <tr>\n",
              "      <th>std</th>\n",
              "      <td>37.602068</td>\n",
              "      <td>0.266811</td>\n",
              "      <td>39.581017</td>\n",
              "    </tr>\n",
              "    <tr>\n",
              "      <th>min</th>\n",
              "      <td>2.000000</td>\n",
              "      <td>0.043858</td>\n",
              "      <td>0.000000</td>\n",
              "    </tr>\n",
              "    <tr>\n",
              "      <th>25%</th>\n",
              "      <td>12.000000</td>\n",
              "      <td>0.408017</td>\n",
              "      <td>0.000000</td>\n",
              "    </tr>\n",
              "    <tr>\n",
              "      <th>50%</th>\n",
              "      <td>59.000000</td>\n",
              "      <td>0.616809</td>\n",
              "      <td>24.000000</td>\n",
              "    </tr>\n",
              "    <tr>\n",
              "      <th>75%</th>\n",
              "      <td>81.000000</td>\n",
              "      <td>0.870083</td>\n",
              "      <td>74.000000</td>\n",
              "    </tr>\n",
              "    <tr>\n",
              "      <th>max</th>\n",
              "      <td>118.000000</td>\n",
              "      <td>1.000000</td>\n",
              "      <td>117.000000</td>\n",
              "    </tr>\n",
              "  </tbody>\n",
              "</table>\n",
              "</div>"
            ],
            "text/plain": [
              "       Pred_class  probabilidade  True_class\n",
              "count  643.000000     643.000000  181.000000\n",
              "mean    52.712286       0.622436   38.574586\n",
              "std     37.602068       0.266811   39.581017\n",
              "min      2.000000       0.043858    0.000000\n",
              "25%     12.000000       0.408017    0.000000\n",
              "50%     59.000000       0.616809   24.000000\n",
              "75%     81.000000       0.870083   74.000000\n",
              "max    118.000000       1.000000  117.000000"
            ]
          },
          "metadata": {
            "tags": []
          },
          "execution_count": 20
        }
      ]
    },
    {
      "cell_type": "code",
      "metadata": {
        "colab": {
          "base_uri": "https://localhost:8080/",
          "height": 80
        },
        "id": "oD45ljqJuCuz",
        "outputId": "7a08fd1a-c579-4b9c-d598-eac662df39f7"
      },
      "source": [
        "data.mode()"
      ],
      "execution_count": 21,
      "outputs": [
        {
          "output_type": "execute_result",
          "data": {
            "text/html": [
              "<div>\n",
              "<style scoped>\n",
              "    .dataframe tbody tr th:only-of-type {\n",
              "        vertical-align: middle;\n",
              "    }\n",
              "\n",
              "    .dataframe tbody tr th {\n",
              "        vertical-align: top;\n",
              "    }\n",
              "\n",
              "    .dataframe thead th {\n",
              "        text-align: right;\n",
              "    }\n",
              "</style>\n",
              "<table border=\"1\" class=\"dataframe\">\n",
              "  <thead>\n",
              "    <tr style=\"text-align: right;\">\n",
              "      <th></th>\n",
              "      <th>Pred_class</th>\n",
              "      <th>probabilidade</th>\n",
              "      <th>status</th>\n",
              "      <th>True_class</th>\n",
              "    </tr>\n",
              "  </thead>\n",
              "  <tbody>\n",
              "    <tr>\n",
              "      <th>0</th>\n",
              "      <td>3</td>\n",
              "      <td>1.0</td>\n",
              "      <td>approved</td>\n",
              "      <td>0.0</td>\n",
              "    </tr>\n",
              "  </tbody>\n",
              "</table>\n",
              "</div>"
            ],
            "text/plain": [
              "   Pred_class  probabilidade    status  True_class\n",
              "0           3            1.0  approved         0.0"
            ]
          },
          "metadata": {
            "tags": []
          },
          "execution_count": 21
        }
      ]
    },
    {
      "cell_type": "code",
      "metadata": {
        "colab": {
          "base_uri": "https://localhost:8080/"
        },
        "id": "qQyR_jLQujL2",
        "outputId": "2f6d9a83-03ea-4f21-ceff-f3e968bdc336"
      },
      "source": [
        "print(data)"
      ],
      "execution_count": 22,
      "outputs": [
        {
          "output_type": "stream",
          "text": [
            "     Pred_class  probabilidade    status  True_class\n",
            "0             2       0.079892  approved         0.0\n",
            "1             2       0.379377  approved        74.0\n",
            "2             2       0.379377  approved        74.0\n",
            "3             2       0.420930  approved        74.0\n",
            "4             2       0.607437  approved         NaN\n",
            "..          ...            ...       ...         ...\n",
            "638          60       0.543772  revision         NaN\n",
            "639          60       0.553846  revision         NaN\n",
            "640          77       0.606065  revision         NaN\n",
            "641          84       0.561842  revision         NaN\n",
            "642          96       0.340740  revision         NaN\n",
            "\n",
            "[643 rows x 4 columns]\n"
          ],
          "name": "stdout"
        }
      ]
    },
    {
      "cell_type": "markdown",
      "metadata": {
        "id": "d2a2til4v241"
      },
      "source": [
        "##Criando Um classificador para preencherr a colna True_class\r\n"
      ]
    },
    {
      "cell_type": "code",
      "metadata": {
        "id": "AHgKtOs5v-xF"
      },
      "source": [
        "df = pd.DataFrame(data, columns = ['Pred_class' , 'probabilidade' , 'status' , 'True_class'])\r\n",
        "df.columns = ['Pred_class' , 'probabilidade' , 'status' , 'True_class']\r\n",
        "df['True_class_new'] = 0\r\n"
      ],
      "execution_count": 23,
      "outputs": []
    },
    {
      "cell_type": "code",
      "metadata": {
        "colab": {
          "base_uri": "https://localhost:8080/"
        },
        "id": "CIBLVoqCxsp4",
        "outputId": "84405596-f16d-4dea-8848-992a60b94c63"
      },
      "source": [
        "print(df)"
      ],
      "execution_count": 28,
      "outputs": [
        {
          "output_type": "stream",
          "text": [
            "     Pred_class  probabilidade    status  True_class  True_class_new\n",
            "0             2       0.079892  approved         0.0               0\n",
            "1             2       0.379377  approved        74.0               0\n",
            "2             2       0.379377  approved        74.0               0\n",
            "3             2       0.420930  approved        74.0               0\n",
            "4             2       0.607437  approved         NaN               0\n",
            "..          ...            ...       ...         ...             ...\n",
            "638          60       0.543772  revision         NaN               0\n",
            "639          60       0.553846  revision         NaN               0\n",
            "640          77       0.606065  revision         NaN               0\n",
            "641          84       0.561842  revision         NaN               0\n",
            "642          96       0.340740  revision         NaN               0\n",
            "\n",
            "[643 rows x 5 columns]\n"
          ],
          "name": "stdout"
        }
      ]
    },
    {
      "cell_type": "code",
      "metadata": {
        "id": "1DSLEuXLxiS8"
      },
      "source": [
        "import warnings\r\n",
        "warnings.filterwarnings('ignore')\r\n",
        "\r\n",
        "for b in df.itertuples():\r\n",
        "    if (b.True_class >= 0):\r\n",
        "        df.True_class_new[b.Index] = b.True_class\r\n",
        "    else:\r\n",
        "        df.True_class_new[b.Index] = b.Pred_class\r\n",
        "\r\n"
      ],
      "execution_count": 59,
      "outputs": []
    },
    {
      "cell_type": "code",
      "metadata": {
        "colab": {
          "base_uri": "https://localhost:8080/"
        },
        "id": "LIUnRzOsxbH0",
        "outputId": "8241d0ae-9e40-44dd-a30e-3a4ef11b2a27"
      },
      "source": [
        "print(df)"
      ],
      "execution_count": 60,
      "outputs": [
        {
          "output_type": "stream",
          "text": [
            "     Pred_class  probabilidade    status  True_class  True_class_new\n",
            "0             2       0.079892  approved         0.0             0.0\n",
            "1             2       0.379377  approved        74.0            74.0\n",
            "2             2       0.379377  approved        74.0            74.0\n",
            "3             2       0.420930  approved        74.0            74.0\n",
            "4             2       0.607437  approved         NaN             2.0\n",
            "..          ...            ...       ...         ...             ...\n",
            "638          60       0.543772  revision         NaN            60.0\n",
            "639          60       0.553846  revision         NaN            60.0\n",
            "640          77       0.606065  revision         NaN            77.0\n",
            "641          84       0.561842  revision         NaN            84.0\n",
            "642          96       0.340740  revision         NaN            96.0\n",
            "\n",
            "[643 rows x 5 columns]\n"
          ],
          "name": "stdout"
        }
      ]
    },
    {
      "cell_type": "code",
      "metadata": {
        "colab": {
          "base_uri": "https://localhost:8080/"
        },
        "id": "XTgNhNW7xkkM",
        "outputId": "d1d2d253-d4c7-4fa2-ea35-c69cb4f8e98a"
      },
      "source": [
        "df.info()"
      ],
      "execution_count": 62,
      "outputs": [
        {
          "output_type": "stream",
          "text": [
            "<class 'pandas.core.frame.DataFrame'>\n",
            "RangeIndex: 643 entries, 0 to 642\n",
            "Data columns (total 5 columns):\n",
            " #   Column          Non-Null Count  Dtype  \n",
            "---  ------          --------------  -----  \n",
            " 0   Pred_class      643 non-null    int64  \n",
            " 1   probabilidade   643 non-null    float64\n",
            " 2   status          643 non-null    object \n",
            " 3   True_class      181 non-null    float64\n",
            " 4   True_class_new  643 non-null    float64\n",
            "dtypes: float64(3), int64(1), object(1)\n",
            "memory usage: 25.2+ KB\n"
          ],
          "name": "stdout"
        }
      ]
    },
    {
      "cell_type": "markdown",
      "metadata": {
        "id": "RSgD6ZhC_bzr"
      },
      "source": [
        "##Crie um classificador que tenha como output se os dados com status igual a revision estão corretos ou não (Sugestão : Técnica de cross-validation K-fold);"
      ]
    },
    {
      "cell_type": "code",
      "metadata": {
        "id": "R3WOg0Mu212u"
      },
      "source": [
        "from sklearn.neighbors import KNeighborsClassifier\r\n",
        "from sklearn.model_selection import cross_val_score"
      ],
      "execution_count": 94,
      "outputs": []
    },
    {
      "cell_type": "code",
      "metadata": {
        "id": "65FGJKRh31Y6"
      },
      "source": [
        "# data and target\r\n",
        "dados, target = df.drop(columns = ['status','True_class']), df['status']\r\n",
        "#dados.drop(columns = ['True_class'])"
      ],
      "execution_count": 97,
      "outputs": []
    },
    {
      "cell_type": "code",
      "metadata": {
        "colab": {
          "base_uri": "https://localhost:8080/"
        },
        "id": "GKS_o9uW5iD0",
        "outputId": "496b18eb-9e00-473f-d2e4-3057b894b4e2"
      },
      "source": [
        "print(dados)"
      ],
      "execution_count": 98,
      "outputs": [
        {
          "output_type": "stream",
          "text": [
            "     Pred_class  probabilidade  True_class_new\n",
            "0             2       0.079892             0.0\n",
            "1             2       0.379377            74.0\n",
            "2             2       0.379377            74.0\n",
            "3             2       0.420930            74.0\n",
            "4             2       0.607437             2.0\n",
            "..          ...            ...             ...\n",
            "638          60       0.543772            60.0\n",
            "639          60       0.553846            60.0\n",
            "640          77       0.606065            77.0\n",
            "641          84       0.561842            84.0\n",
            "642          96       0.340740            96.0\n",
            "\n",
            "[643 rows x 3 columns]\n"
          ],
          "name": "stdout"
        }
      ]
    },
    {
      "cell_type": "code",
      "metadata": {
        "colab": {
          "base_uri": "https://localhost:8080/"
        },
        "id": "p3pdHq3u5l1y",
        "outputId": "a63d5fe2-9d8d-4648-b158-713d91485dc5"
      },
      "source": [
        "print(target)"
      ],
      "execution_count": 99,
      "outputs": [
        {
          "output_type": "stream",
          "text": [
            "0      approved\n",
            "1      approved\n",
            "2      approved\n",
            "3      approved\n",
            "4      approved\n",
            "         ...   \n",
            "638    revision\n",
            "639    revision\n",
            "640    revision\n",
            "641    revision\n",
            "642    revision\n",
            "Name: status, Length: 643, dtype: object\n"
          ],
          "name": "stdout"
        }
      ]
    },
    {
      "cell_type": "code",
      "metadata": {
        "colab": {
          "base_uri": "https://localhost:8080/"
        },
        "id": "FhqEYmcP59xp",
        "outputId": "b36a4b9c-2140-4325-81f1-06bf6422fb42"
      },
      "source": [
        "# KNN classifier model\r\n",
        "knn = KNeighborsClassifier()\r\n",
        "\r\n",
        "# K-fold (k=5)\r\n",
        "scores = cross_val_score(knn, dados, target, cv=5, scoring='accuracy')\r\n",
        "\r\n",
        "# Results\r\n",
        "print(\"Accuracy: %0.2f (+/- %0.2f)\" % (scores.mean(), scores.std() * 2))"
      ],
      "execution_count": 100,
      "outputs": [
        {
          "output_type": "stream",
          "text": [
            "Accuracy: 0.92 (+/- 0.04)\n"
          ],
          "name": "stdout"
        }
      ]
    }
  ]
}