{
  "nbformat": 4,
  "nbformat_minor": 0,
  "metadata": {
    "colab": {
      "name": "smarkio_analise_ml.ipynb",
      "provenance": [],
      "collapsed_sections": [],
      "mount_file_id": "1AZ9vRI9-BXxGz1AJN6WCxLiZWtV93_3U",
      "authorship_tag": "ABX9TyPhlU7kMDUOYZvRxOxUVKwa",
      "include_colab_link": true
    },
    "kernelspec": {
      "display_name": "Python 3",
      "name": "python3"
    }
  },
  "cells": [
    {
      "cell_type": "markdown",
      "metadata": {
        "id": "view-in-github",
        "colab_type": "text"
      },
      "source": [
        "<a href=\"https://colab.research.google.com/github/rafaelrlima/smarkio_test_data_science/blob/main/smarkio_analise_ml.ipynb\" target=\"_parent\"><img src=\"https://colab.research.google.com/assets/colab-badge.svg\" alt=\"Open In Colab\"/></a>"
      ]
    },
    {
      "cell_type": "markdown",
      "metadata": {
        "id": "00WPhUfPc44b"
      },
      "source": [
        "# Teste Ciência de Dados Smarkio - Análise ML"
      ]
    },
    {
      "cell_type": "markdown",
      "metadata": {
        "id": "THtHnZOx2hXV"
      },
      "source": [
        "Esse projeto foi publicado em: https://github.com/rafaelrlima/smarkio_test_data_science\r\n",
        "\r\n",
        "Teste realizado por: Rafael Ribeiro de Lima\r\n",
        "\r\n",
        "Status: Em execução\r\n",
        "\r\n",
        "Etapas executadas nesse arquivo:\r\n",
        "1. Análise exploratória dos dados utilizando estatística descritiva e inferencial,\r\n",
        "considerando uma, duas e/ou mais variáveis;\r\n",
        "2. Calcule o desempenho do modelo de classificação utilizando pelo menos três\r\n",
        "métricas;\r\n",
        "3. Crie um classificador que tenha como output se os dados com status igual a\r\n",
        "revision estão corretos ou não (Sugestão : Técnica de cross-validation K-fold);\r\n",
        "4. Compare três métricas de avaliação aplicadas ao modelo e descreva sobre a\r\n",
        "diferença;"
      ]
    },
    {
      "cell_type": "markdown",
      "metadata": {
        "id": "dWv3ZlwX48UC"
      },
      "source": [
        "## Imports"
      ]
    },
    {
      "cell_type": "code",
      "metadata": {
        "id": "msjxezEXsuPT"
      },
      "source": [
        "import pandas as pd\r\n",
        "import numpy as np\r\n",
        "from pandas import DataFrame\r\n",
        "\r\n",
        "import matplotlib.pyplot as plt\r\n",
        "plt.style.use('classic')\r\n",
        "%matplotlib inline\r\n",
        "import seaborn as sns\r\n",
        "sns.set()"
      ],
      "execution_count": 4,
      "outputs": []
    },
    {
      "cell_type": "markdown",
      "metadata": {
        "id": "M-8HtZ71464i"
      },
      "source": [
        "## Carregando Dataset"
      ]
    },
    {
      "cell_type": "code",
      "metadata": {
        "id": "pIhHA0x_dp-_"
      },
      "source": [
        "\r\n",
        "column_names = [\"Pred_class\", \"probabilidade\" , \"status\", \"True_class\"]\r\n",
        "\r\n",
        "xls = '/content/drive/MyDrive/Colab Notebooks/teste_smarkio_lbs.xls'\r\n",
        "\r\n",
        "data = pd.read_excel(xls, sheet_name='Análise_ML')\r\n"
      ],
      "execution_count": 5,
      "outputs": []
    },
    {
      "cell_type": "markdown",
      "metadata": {
        "id": "OHlgNRRN5FZU"
      },
      "source": [
        "## Explorando os Dados"
      ]
    },
    {
      "cell_type": "code",
      "metadata": {
        "id": "6Fy3NZ74f8zy",
        "colab": {
          "base_uri": "https://localhost:8080/"
        },
        "outputId": "09eec41e-0dea-40e8-e97e-64720960c5c4"
      },
      "source": [
        "data.head"
      ],
      "execution_count": 6,
      "outputs": [
        {
          "output_type": "execute_result",
          "data": {
            "text/plain": [
              "<bound method NDFrame.head of      Pred_class  probabilidade    status  True_class\n",
              "0             2       0.079892  approved         0.0\n",
              "1             2       0.379377  approved        74.0\n",
              "2             2       0.379377  approved        74.0\n",
              "3             2       0.420930  approved        74.0\n",
              "4             2       0.607437  approved         NaN\n",
              "..          ...            ...       ...         ...\n",
              "638          60       0.543772  revision         NaN\n",
              "639          60       0.553846  revision         NaN\n",
              "640          77       0.606065  revision         NaN\n",
              "641          84       0.561842  revision         NaN\n",
              "642          96       0.340740  revision         NaN\n",
              "\n",
              "[643 rows x 4 columns]>"
            ]
          },
          "metadata": {
            "tags": []
          },
          "execution_count": 6
        }
      ]
    },
    {
      "cell_type": "code",
      "metadata": {
        "id": "GLTGJGXJozCX",
        "colab": {
          "base_uri": "https://localhost:8080/"
        },
        "outputId": "26b71f9c-99cc-4276-93b4-6e975e7cccac"
      },
      "source": [
        "data.info()"
      ],
      "execution_count": 7,
      "outputs": [
        {
          "output_type": "stream",
          "text": [
            "<class 'pandas.core.frame.DataFrame'>\n",
            "RangeIndex: 643 entries, 0 to 642\n",
            "Data columns (total 4 columns):\n",
            " #   Column         Non-Null Count  Dtype  \n",
            "---  ------         --------------  -----  \n",
            " 0   Pred_class     643 non-null    int64  \n",
            " 1   probabilidade  643 non-null    float64\n",
            " 2   status         643 non-null    object \n",
            " 3   True_class     181 non-null    float64\n",
            "dtypes: float64(2), int64(1), object(1)\n",
            "memory usage: 20.2+ KB\n"
          ],
          "name": "stdout"
        }
      ]
    },
    {
      "cell_type": "code",
      "metadata": {
        "colab": {
          "base_uri": "https://localhost:8080/",
          "height": 297
        },
        "id": "2xxqrzIvt1EC",
        "outputId": "3274a01d-565f-4875-f421-1e1a49cd369a"
      },
      "source": [
        "data.describe()"
      ],
      "execution_count": 8,
      "outputs": [
        {
          "output_type": "execute_result",
          "data": {
            "text/html": [
              "<div>\n",
              "<style scoped>\n",
              "    .dataframe tbody tr th:only-of-type {\n",
              "        vertical-align: middle;\n",
              "    }\n",
              "\n",
              "    .dataframe tbody tr th {\n",
              "        vertical-align: top;\n",
              "    }\n",
              "\n",
              "    .dataframe thead th {\n",
              "        text-align: right;\n",
              "    }\n",
              "</style>\n",
              "<table border=\"1\" class=\"dataframe\">\n",
              "  <thead>\n",
              "    <tr style=\"text-align: right;\">\n",
              "      <th></th>\n",
              "      <th>Pred_class</th>\n",
              "      <th>probabilidade</th>\n",
              "      <th>True_class</th>\n",
              "    </tr>\n",
              "  </thead>\n",
              "  <tbody>\n",
              "    <tr>\n",
              "      <th>count</th>\n",
              "      <td>643.000000</td>\n",
              "      <td>643.000000</td>\n",
              "      <td>181.000000</td>\n",
              "    </tr>\n",
              "    <tr>\n",
              "      <th>mean</th>\n",
              "      <td>52.712286</td>\n",
              "      <td>0.622436</td>\n",
              "      <td>38.574586</td>\n",
              "    </tr>\n",
              "    <tr>\n",
              "      <th>std</th>\n",
              "      <td>37.602068</td>\n",
              "      <td>0.266811</td>\n",
              "      <td>39.581017</td>\n",
              "    </tr>\n",
              "    <tr>\n",
              "      <th>min</th>\n",
              "      <td>2.000000</td>\n",
              "      <td>0.043858</td>\n",
              "      <td>0.000000</td>\n",
              "    </tr>\n",
              "    <tr>\n",
              "      <th>25%</th>\n",
              "      <td>12.000000</td>\n",
              "      <td>0.408017</td>\n",
              "      <td>0.000000</td>\n",
              "    </tr>\n",
              "    <tr>\n",
              "      <th>50%</th>\n",
              "      <td>59.000000</td>\n",
              "      <td>0.616809</td>\n",
              "      <td>24.000000</td>\n",
              "    </tr>\n",
              "    <tr>\n",
              "      <th>75%</th>\n",
              "      <td>81.000000</td>\n",
              "      <td>0.870083</td>\n",
              "      <td>74.000000</td>\n",
              "    </tr>\n",
              "    <tr>\n",
              "      <th>max</th>\n",
              "      <td>118.000000</td>\n",
              "      <td>1.000000</td>\n",
              "      <td>117.000000</td>\n",
              "    </tr>\n",
              "  </tbody>\n",
              "</table>\n",
              "</div>"
            ],
            "text/plain": [
              "       Pred_class  probabilidade  True_class\n",
              "count  643.000000     643.000000  181.000000\n",
              "mean    52.712286       0.622436   38.574586\n",
              "std     37.602068       0.266811   39.581017\n",
              "min      2.000000       0.043858    0.000000\n",
              "25%     12.000000       0.408017    0.000000\n",
              "50%     59.000000       0.616809   24.000000\n",
              "75%     81.000000       0.870083   74.000000\n",
              "max    118.000000       1.000000  117.000000"
            ]
          },
          "metadata": {
            "tags": []
          },
          "execution_count": 8
        }
      ]
    },
    {
      "cell_type": "code",
      "metadata": {
        "colab": {
          "base_uri": "https://localhost:8080/",
          "height": 80
        },
        "id": "oD45ljqJuCuz",
        "outputId": "f251f9b5-9903-491c-8901-4314ab3e2497"
      },
      "source": [
        "data.mode()"
      ],
      "execution_count": 9,
      "outputs": [
        {
          "output_type": "execute_result",
          "data": {
            "text/html": [
              "<div>\n",
              "<style scoped>\n",
              "    .dataframe tbody tr th:only-of-type {\n",
              "        vertical-align: middle;\n",
              "    }\n",
              "\n",
              "    .dataframe tbody tr th {\n",
              "        vertical-align: top;\n",
              "    }\n",
              "\n",
              "    .dataframe thead th {\n",
              "        text-align: right;\n",
              "    }\n",
              "</style>\n",
              "<table border=\"1\" class=\"dataframe\">\n",
              "  <thead>\n",
              "    <tr style=\"text-align: right;\">\n",
              "      <th></th>\n",
              "      <th>Pred_class</th>\n",
              "      <th>probabilidade</th>\n",
              "      <th>status</th>\n",
              "      <th>True_class</th>\n",
              "    </tr>\n",
              "  </thead>\n",
              "  <tbody>\n",
              "    <tr>\n",
              "      <th>0</th>\n",
              "      <td>3</td>\n",
              "      <td>1.0</td>\n",
              "      <td>approved</td>\n",
              "      <td>0.0</td>\n",
              "    </tr>\n",
              "  </tbody>\n",
              "</table>\n",
              "</div>"
            ],
            "text/plain": [
              "   Pred_class  probabilidade    status  True_class\n",
              "0           3            1.0  approved         0.0"
            ]
          },
          "metadata": {
            "tags": []
          },
          "execution_count": 9
        }
      ]
    },
    {
      "cell_type": "code",
      "metadata": {
        "colab": {
          "base_uri": "https://localhost:8080/"
        },
        "id": "qQyR_jLQujL2",
        "outputId": "769ec702-9dc2-47a4-9856-3a1a2ddc584d"
      },
      "source": [
        "print(data)"
      ],
      "execution_count": 10,
      "outputs": [
        {
          "output_type": "stream",
          "text": [
            "     Pred_class  probabilidade    status  True_class\n",
            "0             2       0.079892  approved         0.0\n",
            "1             2       0.379377  approved        74.0\n",
            "2             2       0.379377  approved        74.0\n",
            "3             2       0.420930  approved        74.0\n",
            "4             2       0.607437  approved         NaN\n",
            "..          ...            ...       ...         ...\n",
            "638          60       0.543772  revision         NaN\n",
            "639          60       0.553846  revision         NaN\n",
            "640          77       0.606065  revision         NaN\n",
            "641          84       0.561842  revision         NaN\n",
            "642          96       0.340740  revision         NaN\n",
            "\n",
            "[643 rows x 4 columns]\n"
          ],
          "name": "stdout"
        }
      ]
    },
    {
      "cell_type": "markdown",
      "metadata": {
        "id": "d2a2til4v241"
      },
      "source": [
        "##Criando Um classificador para preencher a coluna True_class gerando a coluna True_class_new\r\n"
      ]
    },
    {
      "cell_type": "code",
      "metadata": {
        "id": "AHgKtOs5v-xF"
      },
      "source": [
        "df = pd.DataFrame(data, columns = ['Pred_class' , 'probabilidade' , 'status' , 'True_class'])\r\n",
        "df.columns = ['Pred_class' , 'probabilidade' , 'status' , 'True_class']\r\n",
        "df['True_class_new'] = 0\r\n"
      ],
      "execution_count": 11,
      "outputs": []
    },
    {
      "cell_type": "code",
      "metadata": {
        "colab": {
          "base_uri": "https://localhost:8080/"
        },
        "id": "CIBLVoqCxsp4",
        "outputId": "b3599989-cfaa-4125-9f5e-7a07f4f74b88"
      },
      "source": [
        "print(df)"
      ],
      "execution_count": 12,
      "outputs": [
        {
          "output_type": "stream",
          "text": [
            "     Pred_class  probabilidade    status  True_class  True_class_new\n",
            "0             2       0.079892  approved         0.0               0\n",
            "1             2       0.379377  approved        74.0               0\n",
            "2             2       0.379377  approved        74.0               0\n",
            "3             2       0.420930  approved        74.0               0\n",
            "4             2       0.607437  approved         NaN               0\n",
            "..          ...            ...       ...         ...             ...\n",
            "638          60       0.543772  revision         NaN               0\n",
            "639          60       0.553846  revision         NaN               0\n",
            "640          77       0.606065  revision         NaN               0\n",
            "641          84       0.561842  revision         NaN               0\n",
            "642          96       0.340740  revision         NaN               0\n",
            "\n",
            "[643 rows x 5 columns]\n"
          ],
          "name": "stdout"
        }
      ]
    },
    {
      "cell_type": "code",
      "metadata": {
        "id": "1DSLEuXLxiS8"
      },
      "source": [
        "import warnings\r\n",
        "warnings.filterwarnings('ignore')\r\n",
        "\r\n",
        "for b in df.itertuples():\r\n",
        "    if (b.True_class >= 0):\r\n",
        "        df.True_class_new[b.Index] = b.True_class\r\n",
        "    else:\r\n",
        "        df.True_class_new[b.Index] = b.Pred_class\r\n",
        "\r\n"
      ],
      "execution_count": 13,
      "outputs": []
    },
    {
      "cell_type": "code",
      "metadata": {
        "colab": {
          "base_uri": "https://localhost:8080/"
        },
        "id": "LIUnRzOsxbH0",
        "outputId": "b8708d23-c024-45a1-d62e-d3e52e0428bf"
      },
      "source": [
        "print(df)"
      ],
      "execution_count": 14,
      "outputs": [
        {
          "output_type": "stream",
          "text": [
            "     Pred_class  probabilidade    status  True_class  True_class_new\n",
            "0             2       0.079892  approved         0.0               0\n",
            "1             2       0.379377  approved        74.0              74\n",
            "2             2       0.379377  approved        74.0              74\n",
            "3             2       0.420930  approved        74.0              74\n",
            "4             2       0.607437  approved         NaN               2\n",
            "..          ...            ...       ...         ...             ...\n",
            "638          60       0.543772  revision         NaN              60\n",
            "639          60       0.553846  revision         NaN              60\n",
            "640          77       0.606065  revision         NaN              77\n",
            "641          84       0.561842  revision         NaN              84\n",
            "642          96       0.340740  revision         NaN              96\n",
            "\n",
            "[643 rows x 5 columns]\n"
          ],
          "name": "stdout"
        }
      ]
    },
    {
      "cell_type": "code",
      "metadata": {
        "colab": {
          "base_uri": "https://localhost:8080/"
        },
        "id": "XTgNhNW7xkkM",
        "outputId": "9d84882e-0ec3-4c97-ae34-bd7794ba2020"
      },
      "source": [
        "df.info()"
      ],
      "execution_count": 15,
      "outputs": [
        {
          "output_type": "stream",
          "text": [
            "<class 'pandas.core.frame.DataFrame'>\n",
            "RangeIndex: 643 entries, 0 to 642\n",
            "Data columns (total 5 columns):\n",
            " #   Column          Non-Null Count  Dtype  \n",
            "---  ------          --------------  -----  \n",
            " 0   Pred_class      643 non-null    int64  \n",
            " 1   probabilidade   643 non-null    float64\n",
            " 2   status          643 non-null    object \n",
            " 3   True_class      181 non-null    float64\n",
            " 4   True_class_new  643 non-null    int64  \n",
            "dtypes: float64(2), int64(2), object(1)\n",
            "memory usage: 25.2+ KB\n"
          ],
          "name": "stdout"
        }
      ]
    },
    {
      "cell_type": "code",
      "metadata": {
        "colab": {
          "base_uri": "https://localhost:8080/",
          "height": 280
        },
        "id": "kGSmFTkT8maf",
        "outputId": "885406c7-c710-4732-8015-d9fd344d172e"
      },
      "source": [
        "boxplot = df.boxplot(column=['Pred_class',   'probabilidade', 'True_class_new'])"
      ],
      "execution_count": 19,
      "outputs": [
        {
          "output_type": "display_data",
          "data": {
            "image/png": "[encoded data removed]",
            "text/plain": [
              "<Figure size 432x288 with 1 Axes>"
            ]
          },
          "metadata": {
            "tags": []
          }
        }
      ]
    },
    {
      "cell_type": "markdown",
      "metadata": {
        "id": "8wN0uMJX6NHr"
      },
      "source": [
        "## Calcule o desempenho do modelo de classificação utilizando pelo menos três métricas"
      ]
    },
    {
      "cell_type": "code",
      "metadata": {
        "id": "muR09nPH6hf2"
      },
      "source": [
        ""
      ],
      "execution_count": 19,
      "outputs": []
    },
    {
      "cell_type": "markdown",
      "metadata": {
        "id": "RSgD6ZhC_bzr"
      },
      "source": [
        "##Crie um classificador que tenha como output se os dados com status igual a revision estão corretos ou não (Sugestão : Técnica de cross-validation K-fold);"
      ]
    },
    {
      "cell_type": "code",
      "metadata": {
        "id": "R3WOg0Mu212u"
      },
      "source": [
        "from sklearn.neighbors import KNeighborsClassifier\r\n",
        "from sklearn.model_selection import cross_val_score"
      ],
      "execution_count": 20,
      "outputs": []
    },
    {
      "cell_type": "code",
      "metadata": {
        "id": "65FGJKRh31Y6"
      },
      "source": [
        "# data and target\r\n",
        "dados, target = df.drop(columns = ['status','True_class']), df['status']\r\n",
        "#dados.drop(columns = ['True_class'])"
      ],
      "execution_count": 21,
      "outputs": []
    },
    {
      "cell_type": "code",
      "metadata": {
        "id": "GKS_o9uW5iD0"
      },
      "source": [
        "print(dados)"
      ],
      "execution_count": null,
      "outputs": []
    },
    {
      "cell_type": "code",
      "metadata": {
        "colab": {
          "base_uri": "https://localhost:8080/"
        },
        "id": "p3pdHq3u5l1y",
        "outputId": "569ad43e-c3a3-48c2-bff6-ad8f10894533"
      },
      "source": [
        "print(target)"
      ],
      "execution_count": 22,
      "outputs": [
        {
          "output_type": "stream",
          "text": [
            "0      approved\n",
            "1      approved\n",
            "2      approved\n",
            "3      approved\n",
            "4      approved\n",
            "         ...   \n",
            "638    revision\n",
            "639    revision\n",
            "640    revision\n",
            "641    revision\n",
            "642    revision\n",
            "Name: status, Length: 643, dtype: object\n"
          ],
          "name": "stdout"
        }
      ]
    },
    {
      "cell_type": "code",
      "metadata": {
        "colab": {
          "base_uri": "https://localhost:8080/"
        },
        "id": "FhqEYmcP59xp",
        "outputId": "3d2247b9-546c-40ca-f067-ad26de714f90"
      },
      "source": [
        "# KNN classifier model\r\n",
        "knn = KNeighborsClassifier()\r\n",
        "\r\n",
        "# K-fold (k=5)\r\n",
        "scores = cross_val_score(knn, dados, target, cv=5, scoring='accuracy')\r\n",
        "\r\n",
        "# Results\r\n",
        "print(\"Accuracy: %0.2f (+/- %0.2f)\" % (scores.mean(), scores.std() * 2))"
      ],
      "execution_count": 24,
      "outputs": [
        {
          "output_type": "stream",
          "text": [
            "Accuracy: 0.92 (+/- 0.04)\n"
          ],
          "name": "stdout"
        }
      ]
    },
    {
      "cell_type": "markdown",
      "metadata": {
        "id": "trFOdbpS5f7O"
      },
      "source": [
        "## Compare três métricas de avaliação aplicadas ao modelo e descreva sobre a diferença"
      ]
    }
  ]
}